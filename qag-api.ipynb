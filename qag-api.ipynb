{
 "cells": [
  {
   "cell_type": "markdown",
   "metadata": {},
   "source": [
    "# DeepSeek - R1"
   ]
  },
  {
   "cell_type": "code",
   "execution_count": null,
   "metadata": {
    "execution": {
     "iopub.execute_input": "2025-02-19T08:12:49.037704Z",
     "iopub.status.busy": "2025-02-19T08:12:49.037334Z",
     "iopub.status.idle": "2025-02-19T08:14:53.882347Z",
     "shell.execute_reply": "2025-02-19T08:14:53.881106Z",
     "shell.execute_reply.started": "2025-02-19T08:12:49.037674Z"
    },
    "trusted": true
   },
   "outputs": [],
   "source": [
    "import requests\n",
    "import json\n",
    "\n",
    "response = requests.post(\n",
    "  url=\"https://openrouter.ai/api/v1/chat/completions\",\n",
    "  headers={\n",
    "    \"Authorization\": \"Bearer <API_KEY>\",\n",
    "    \"Content-Type\": \"application/json\",\n",
    "  },\n",
    "  data=json.dumps({\n",
    "    \"model\": \"deepseek/deepseek-r1:free\",\n",
    "    \"messages\": [\n",
    "      {\n",
    "        \"role\": \"user\",\n",
    "        \"content\": \"What is the meaning of life?\"\n",
    "      }\n",
    "    ],\n",
    "    \n",
    "  })\n",
    ")"
   ]
  },
  {
   "cell_type": "code",
   "execution_count": null,
   "metadata": {
    "execution": {
     "iopub.execute_input": "2025-02-19T07:55:54.025926Z",
     "iopub.status.busy": "2025-02-19T07:55:54.025459Z",
     "iopub.status.idle": "2025-02-19T07:56:55.288756Z",
     "shell.execute_reply": "2025-02-19T07:56:55.287650Z",
     "shell.execute_reply.started": "2025-02-19T07:55:54.025890Z"
    },
    "trusted": true
   },
   "outputs": [
    {
     "name": "stdout",
     "output_type": "stream",
     "text": [
      "Okay, the user wants me to generate three question-answer pairs from the given content. Let me start by reading the content carefully.\n",
      "\n",
      "The content is about Artificial Intelligence. The first sentence says AI is intelligence demonstrated by machines, different from natural intelligence in humans and animals. Then it mentions AI textbooks define the field as studying \"intelligent agents,\" which are devices that perceive their environment and take actions to maximize their chances of achieving goals.\n",
      "\n",
      "So, I need to identify key points here. The main elements are the definition of AI, the contrast with natural intelligence, intelligent agents, their function (perceive environment, take actions), and the goal (maximize success).\n",
      "\n",
      "Now, to create questions. The first question could be a straightforward definition: What is AI? The answer would combine the first sentence and the part from the textbooks.\n",
      "\n",
      "Second question might focus on the contrasting aspect: How does AI differ from natural intelligence? The answer would highlight the machine vs. human/animal contrast.\n",
      "\n",
      "Third question could be about intelligent agents. Maybe asking what they are or how they are defined. The answer would explain the definition from the textbooks, mentioning perception, actions, and goal achievement.\n",
      "\n",
      "Let me check if each QA pair covers different parts of the content. The third one brings in intelligent agents, which is another key term. That should cover the main points without overlapping too much. Need to make sure answers are concise and directly pulled from the content. Avoid adding extra info not in the provided text.\n",
      "Q: What is artificial intelligence (AI)?  \n",
      "A: Artificial intelligence (AI) refers to intelligence demonstrated by machines, contrasting with the natural intelligence displayed by humans and animals.  \n",
      "\n",
      "Q: How do leading AI textbooks define the field of AI?  \n",
      "A: They define it as the study of \"intelligent agents\"—devices that perceive their environment and take actions to maximize their chances of successfully achieving specific goals.  \n",
      "\n",
      "Q: What is the primary function of an intelligent agent in AI?  \n",
      "A: An intelligent agent perceives its environment and takes actions that optimize its likelihood of accomplishing its objectives.\n"
     ]
    }
   ],
   "source": [
    "import requests\n",
    "\n",
    "# Set your DeepSeek API Key\n",
    "DEEPSEEK_API_KEY = \"<API_KEY>\"\n",
    "\n",
    "# Content to generate question-answer pairs from\n",
    "content = \"\"\"Artificial intelligence (AI) is intelligence demonstrated by machines, \n",
    "in contrast to the natural intelligence displayed by humans and animals. \n",
    "Leading AI textbooks define the field as the study of 'intelligent agents': \n",
    "any device that perceives its environment and takes actions that maximize its \n",
    "chance of successfully achieving its goals.\"\"\"\n",
    "\n",
    "# Number of QA pairs to generate\n",
    "num_pairs = 3\n",
    "\n",
    "# DeepSeek API Endpoint\n",
    "url = \"https://openrouter.ai/api/v1/chat/completions\"\n",
    "\n",
    "# Headers for the API request\n",
    "headers = {\n",
    "    \"Authorization\": f\"Bearer {DEEPSEEK_API_KEY}\",\n",
    "    \"Content-Type\": \"application/json\"\n",
    "}\n",
    "\n",
    "# Define the prompt\n",
    "prompt = f\"\"\"\n",
    "Generate {num_pairs} question-answer pairs from the following content.\n",
    "Provide the output in the form:\n",
    "Q: <question>\n",
    "A: <answer>\n",
    "\n",
    "Content: {content}\n",
    "\"\"\"\n",
    "\n",
    "# Define the payload for the API request\n",
    "data = {\n",
    "    \"model\": \"deepseek/deepseek-r1:free\",\n",
    "    \"messages\": [{\"role\": \"user\", \"content\": prompt}],\n",
    "    \"temperature\": 0.7,\n",
    "    \"max_tokens\": 520\n",
    "}\n",
    "\n",
    "# Send the request to DeepSeek API\n",
    "response = requests.post(url, headers=headers, json=data)\n",
    "\n",
    "# Check for a successful response\n",
    "if response.status_code == 200:\n",
    "    output = response.json()[\"choices\"][0][\"message\"][\"content\"]\n",
    "    print(output)  # Print the generated QA pairs\n",
    "else:\n",
    "    print(f\"Error: {response.status_code} - {response.text}\")\n"
   ]
  },
  {
   "cell_type": "markdown",
   "metadata": {},
   "source": [
    "# Meta - llama 3.3"
   ]
  },
  {
   "cell_type": "code",
   "execution_count": null,
   "metadata": {
    "execution": {
     "iopub.execute_input": "2025-02-19T08:15:51.306543Z",
     "iopub.status.busy": "2025-02-19T08:15:51.306211Z",
     "iopub.status.idle": "2025-02-19T08:15:54.543790Z",
     "shell.execute_reply": "2025-02-19T08:15:54.542839Z",
     "shell.execute_reply.started": "2025-02-19T08:15:51.306518Z"
    },
    "trusted": true
   },
   "outputs": [],
   "source": [
    "import requests\n",
    "import json\n",
    "\n",
    "response = requests.post(\n",
    "  url=\"https://openrouter.ai/api/v1/chat/completions\",\n",
    "  headers={\n",
    "    \"Authorization\": \"Bearer <API_KEY>\",\n",
    "    \"Content-Type\": \"application/json\",\n",
    "  },\n",
    "  data=json.dumps({\n",
    "    \"model\": \"meta-llama/llama-3.3-70b-instruct:free\",\n",
    "    \"messages\": [\n",
    "      {\n",
    "        \"role\": \"user\",\n",
    "        \"content\": \"What is the meaning of life?\"\n",
    "      }\n",
    "    ],\n",
    "    \n",
    "  })\n",
    ")"
   ]
  },
  {
   "cell_type": "code",
   "execution_count": null,
   "metadata": {
    "execution": {
     "iopub.execute_input": "2025-02-19T08:16:08.807079Z",
     "iopub.status.busy": "2025-02-19T08:16:08.806645Z",
     "iopub.status.idle": "2025-02-19T08:16:13.622891Z",
     "shell.execute_reply": "2025-02-19T08:16:13.620904Z",
     "shell.execute_reply.started": "2025-02-19T08:16:08.807047Z"
    },
    "trusted": true
   },
   "outputs": [
    {
     "name": "stdout",
     "output_type": "stream",
     "text": [
      "Here are 3 question-answer pairs based on the content:\n",
      "\n",
      "Q: What is artificial intelligence?\n",
      "A: Artificial intelligence is intelligence demonstrated by machines.\n",
      "\n",
      "Q: How do leading AI textbooks define the field of artificial intelligence?\n",
      "A: Leading AI textbooks define the field as the study of 'intelligent agents'.\n",
      "\n",
      "Q: What characterizes an 'intelligent agent' in the context of artificial intelligence?\n",
      "A: An 'intelligent agent' is any device that perceives its environment and takes actions that maximize its chance of successfully achieving its goals.\n"
     ]
    }
   ],
   "source": [
    "import requests\n",
    "\n",
    "# Set your DeepSeek API Key\n",
    "DEEPSEEK_API_KEY = \"<API_KEY>\"\n",
    "\n",
    "# Content to generate question-answer pairs from\n",
    "content = \"\"\"Artificial intelligence (AI) is intelligence demonstrated by machines, \n",
    "in contrast to the natural intelligence displayed by humans and animals. \n",
    "Leading AI textbooks define the field as the study of 'intelligent agents': \n",
    "any device that perceives its environment and takes actions that maximize its \n",
    "chance of successfully achieving its goals.\"\"\"\n",
    "\n",
    "# Number of QA pairs to generate\n",
    "num_pairs = 3\n",
    "\n",
    "# DeepSeek API Endpoint\n",
    "url = \"https://openrouter.ai/api/v1/chat/completions\"\n",
    "\n",
    "# Headers for the API request\n",
    "headers = {\n",
    "    \"Authorization\": f\"Bearer {DEEPSEEK_API_KEY}\",\n",
    "    \"Content-Type\": \"application/json\"\n",
    "}\n",
    "\n",
    "# Define the prompt\n",
    "prompt = f\"\"\"\n",
    "Generate {num_pairs} question-answer pairs from the following content.\n",
    "Provide the output in the form:\n",
    "Q: <question>\n",
    "A: <answer>\n",
    "\n",
    "Content: {content}\n",
    "\"\"\"\n",
    "\n",
    "# Define the payload for the API request\n",
    "data = {\n",
    "    \"model\": \"meta-llama/llama-3.3-70b-instruct:free\",\n",
    "    \"messages\": [{\"role\": \"user\", \"content\": prompt}],\n",
    "    \"temperature\": 0.7,\n",
    "    \"max_tokens\": 520\n",
    "}\n",
    "\n",
    "# Send the request to DeepSeek API\n",
    "response = requests.post(url, headers=headers, json=data)\n",
    "\n",
    "# Check for a successful response\n",
    "if response.status_code == 200:\n",
    "    output = response.json()[\"choices\"][0][\"message\"][\"content\"]\n",
    "    print(output)  # Print the generated QA pairs\n",
    "else:\n",
    "    print(f\"Error: {response.status_code} - {response.text}\")\n"
   ]
  },
  {
   "cell_type": "markdown",
   "metadata": {},
   "source": [
    "# Google - Gemma-2"
   ]
  },
  {
   "cell_type": "code",
   "execution_count": null,
   "metadata": {
    "execution": {
     "iopub.execute_input": "2025-02-19T08:19:19.420159Z",
     "iopub.status.busy": "2025-02-19T08:19:19.419828Z",
     "iopub.status.idle": "2025-02-19T08:19:23.814376Z",
     "shell.execute_reply": "2025-02-19T08:19:23.813278Z",
     "shell.execute_reply.started": "2025-02-19T08:19:19.420136Z"
    },
    "trusted": true
   },
   "outputs": [],
   "source": [
    "import requests\n",
    "import json\n",
    "\n",
    "response = requests.post(\n",
    "  url=\"https://openrouter.ai/api/v1/chat/completions\",\n",
    "  headers={\n",
    "    \"Authorization\": \"Bearer <API_KEY>\",\n",
    "    \"Content-Type\": \"application/json\"\n",
    "  },\n",
    "  data=json.dumps({\n",
    "    \"model\": \"google/gemma-2-9b-it:free\",\n",
    "    \"messages\": [\n",
    "      {\n",
    "        \"role\": \"user\",\n",
    "        \"content\": \"What is the meaning of life?\"\n",
    "      }\n",
    "    ],\n",
    "    \n",
    "  })\n",
    ")"
   ]
  },
  {
   "cell_type": "code",
   "execution_count": null,
   "metadata": {
    "execution": {
     "iopub.execute_input": "2025-02-19T08:19:59.773337Z",
     "iopub.status.busy": "2025-02-19T08:19:59.772997Z",
     "iopub.status.idle": "2025-02-19T08:20:04.001602Z",
     "shell.execute_reply": "2025-02-19T08:20:04.000463Z",
     "shell.execute_reply.started": "2025-02-19T08:19:59.773311Z"
    },
    "trusted": true
   },
   "outputs": [
    {
     "name": "stdout",
     "output_type": "stream",
     "text": [
      "\n",
      "\n",
      "Q: What is artificial intelligence (AI)?\n",
      "A: AI is intelligence demonstrated by machines, in contrast to the natural intelligence of humans and animals.\n",
      "\n",
      "Q: How is AI defined in leading textbooks?\n",
      "A: AI is defined as the study of 'intelligent agents': any device that perceives its environment and takes actions to maximize its chances of achieving its goals.\n",
      "\n",
      "Q: What is an intelligent agent according to the definition of AI?\n",
      "A: An intelligent agent is any device that perceives its environment and takes actions to maximize its chances of successfully achieving its goals. \n",
      "\n",
      "\n",
      "\n"
     ]
    }
   ],
   "source": [
    "import requests\n",
    "\n",
    "# Set your DeepSeek API Key\n",
    "DEEPSEEK_API_KEY = \"<API_KEY>\"\n",
    "\n",
    "# Content to generate question-answer pairs from\n",
    "content = \"\"\"Artificial intelligence (AI) is intelligence demonstrated by machines, \n",
    "in contrast to the natural intelligence displayed by humans and animals. \n",
    "Leading AI textbooks define the field as the study of 'intelligent agents': \n",
    "any device that perceives its environment and takes actions that maximize its \n",
    "chance of successfully achieving its goals.\"\"\"\n",
    "\n",
    "# Number of QA pairs to generate\n",
    "num_pairs = 3\n",
    "\n",
    "# DeepSeek API Endpoint\n",
    "url = \"https://openrouter.ai/api/v1/chat/completions\"\n",
    "\n",
    "# Headers for the API request\n",
    "headers = {\n",
    "    \"Authorization\": f\"Bearer {DEEPSEEK_API_KEY}\",\n",
    "    \"Content-Type\": \"application/json\"\n",
    "}\n",
    "\n",
    "# Define the prompt\n",
    "prompt = f\"\"\"\n",
    "Generate {num_pairs} question-answer pairs from the following content.\n",
    "Provide the output in the form:\n",
    "Q: <question>\n",
    "A: <answer>\n",
    "\n",
    "Content: {content}\n",
    "\"\"\"\n",
    "\n",
    "# Define the payload for the API request\n",
    "data = {\n",
    "    \"model\": \"google/gemma-2-9b-it:free\",\n",
    "    \"messages\": [{\"role\": \"user\", \"content\": prompt}],\n",
    "    \"temperature\": 0.7\n",
    "}\n",
    "\n",
    "# Send the request to DeepSeek API\n",
    "response = requests.post(url, headers=headers, json=data)\n",
    "\n",
    "# Check for a successful response\n",
    "if response.status_code == 200:\n",
    "    output = response.json()[\"choices\"][0][\"message\"][\"content\"]\n",
    "    print(output)  # Print the generated QA pairs\n",
    "else:\n",
    "    print(f\"Error: {response.status_code} - {response.text}\")\n"
   ]
  },
  {
   "cell_type": "markdown",
   "metadata": {},
   "source": [
    "# DeepSeek - r1-distill-llama"
   ]
  },
  {
   "cell_type": "code",
   "execution_count": null,
   "metadata": {
    "execution": {
     "iopub.execute_input": "2025-02-19T08:23:50.353973Z",
     "iopub.status.busy": "2025-02-19T08:23:50.353572Z",
     "iopub.status.idle": "2025-02-19T08:24:21.819855Z",
     "shell.execute_reply": "2025-02-19T08:24:21.818779Z",
     "shell.execute_reply.started": "2025-02-19T08:23:50.353939Z"
    },
    "trusted": true
   },
   "outputs": [],
   "source": [
    "import requests\n",
    "import json\n",
    "\n",
    "response = requests.post(\n",
    "  url=\"https://openrouter.ai/api/v1/chat/completions\",\n",
    "  headers={\n",
    "    \"Authorization\": \"Bearer <API_KEY>\",\n",
    "    \"Content-Type\": \"application/json\"\n",
    "  },\n",
    "  data=json.dumps({\n",
    "    \"model\": \"deepseek/deepseek-r1-distill-llama-70b:free\",\n",
    "    \"messages\": [\n",
    "      {\n",
    "        \"role\": \"user\",\n",
    "        \"content\": \"What is the meaning of life?\"\n",
    "      }\n",
    "    ],\n",
    "    \n",
    "  })\n",
    ")"
   ]
  },
  {
   "cell_type": "code",
   "execution_count": null,
   "metadata": {
    "execution": {
     "iopub.execute_input": "2025-02-19T08:24:38.759779Z",
     "iopub.status.busy": "2025-02-19T08:24:38.759394Z",
     "iopub.status.idle": "2025-02-19T08:24:47.863266Z",
     "shell.execute_reply": "2025-02-19T08:24:47.862154Z",
     "shell.execute_reply.started": "2025-02-19T08:24:38.759724Z"
    },
    "trusted": true
   },
   "outputs": [
    {
     "name": "stdout",
     "output_type": "stream",
     "text": [
      "Alright, so the user wants me to generate 3 question-answer pairs from the given content. Let me first read through the content carefully to understand what it's about.\n",
      "\n",
      "The content starts by defining Artificial Intelligence (AI) as intelligence demonstrated by machines, contrasting it with natural intelligence from humans and animals. Then it mentions that leading AI textbooks define the field as the study of 'intelligent agents.' These agents are described as devices that perceive their environment and take actions to maximize their chances of achieving their goals.\n",
      "\n",
      "Okay, so the key points here are:\n",
      "1. AI is machine intelligence, different from human/animal intelligence.\n",
      "2. AI is studied through 'intelligent agents.'\n",
      "3. Intelligent agents perceive their environment and act to achieve goals.\n",
      "\n",
      "I need to create questions that target these points. Let me think about what someone might ask about this content.\n",
      "\n",
      "First, a question about the definition of AI. That's straightforward. The answer would be the initial part of the content.\n",
      "\n",
      "Next, the content mentions that leading textbooks define the field as the study of 'intelligent agents.' So a question about how AI is defined in textbooks would make sense.\n",
      "\n",
      "Lastly, the description of intelligent agents includes their function. So a question asking what intelligent agents do would be appropriate.\n",
      "\n",
      "I should make sure each question is clear and directly relates to a specific part of the content. The answers should be concise, pulling directly from the text.\n",
      "\n",
      "I think that's a solid approach. Now, I'll structure the Q&A pairs accordingly.\n",
      "Q: What is artificial intelligence (AI)?  \n",
      "A: Artificial intelligence (AI) is intelligence demonstrated by machines, in contrast to the natural intelligence displayed by humans and animals.  \n",
      "\n",
      "Q: How do leading AI textbooks define the field of artificial intelligence?  \n",
      "A: Leading AI textbooks define the field as the study of 'intelligent agents'—any device that perceives its environment and takes actions that maximize its chance of successfully achieving its goals.  \n",
      "\n",
      "Q: What do intelligent agents do?  \n",
      "A: Intelligent agents perceive their environment and take actions that maximize their chance of successfully achieving their goals.\n"
     ]
    }
   ],
   "source": [
    "import requests\n",
    "\n",
    "# Set your DeepSeek API Key\n",
    "DEEPSEEK_API_KEY = \"<API_KEY>\"\n",
    "\n",
    "# Content to generate question-answer pairs from\n",
    "content = \"\"\"Artificial intelligence (AI) is intelligence demonstrated by machines, \n",
    "in contrast to the natural intelligence displayed by humans and animals. \n",
    "Leading AI textbooks define the field as the study of 'intelligent agents': \n",
    "any device that perceives its environment and takes actions that maximize its \n",
    "chance of successfully achieving its goals.\"\"\"\n",
    "\n",
    "# Number of QA pairs to generate\n",
    "num_pairs = 3\n",
    "\n",
    "# DeepSeek API Endpoint\n",
    "url = \"https://openrouter.ai/api/v1/chat/completions\"\n",
    "\n",
    "# Headers for the API request\n",
    "headers = {\n",
    "    \"Authorization\": f\"Bearer {DEEPSEEK_API_KEY}\",\n",
    "    \"Content-Type\": \"application/json\"\n",
    "}\n",
    "\n",
    "# Define the prompt\n",
    "prompt = f\"\"\"\n",
    "Generate {num_pairs} question-answer pairs from the following content.\n",
    "Provide the output in the form:\n",
    "Q: <question>\n",
    "A: <answer>\n",
    "\n",
    "Content: {content}\n",
    "\"\"\"\n",
    "\n",
    "# Define the payload for the API request\n",
    "data = {\n",
    "    \"model\": \"deepseek/deepseek-r1-distill-llama-70b:free\",\n",
    "    \"messages\": [{\"role\": \"user\", \"content\": prompt}],\n",
    "    \"temperature\": 0.7\n",
    "}\n",
    "\n",
    "# Send the request to DeepSeek API\n",
    "response = requests.post(url, headers=headers, json=data)\n",
    "\n",
    "# Check for a successful response\n",
    "if response.status_code == 200:\n",
    "    output = response.json()[\"choices\"][0][\"message\"][\"content\"]\n",
    "    print(output)  # Print the generated QA pairs\n",
    "else:\n",
    "    print(f\"Error: {response.status_code} - {response.text}\")\n"
   ]
  },
  {
   "cell_type": "code",
   "execution_count": null,
   "metadata": {
    "trusted": true
   },
   "outputs": [],
   "source": []
  }
 ],
 "metadata": {
  "kaggle": {
   "accelerator": "none",
   "dataSources": [],
   "dockerImageVersionId": 30886,
   "isGpuEnabled": false,
   "isInternetEnabled": true,
   "language": "python",
   "sourceType": "notebook"
  },
  "kernelspec": {
   "display_name": "Python 3",
   "language": "python",
   "name": "python3"
  },
  "language_info": {
   "codemirror_mode": {
    "name": "ipython",
    "version": 3
   },
   "file_extension": ".py",
   "mimetype": "text/x-python",
   "name": "python",
   "nbconvert_exporter": "python",
   "pygments_lexer": "ipython3",
   "version": "3.10.12"
  }
 },
 "nbformat": 4,
 "nbformat_minor": 4
}
